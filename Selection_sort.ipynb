{
 "cells": [
  {
   "cell_type": "code",
   "execution_count": 1,
   "metadata": {},
   "outputs": [
    {
     "data": {
      "text/plain": [
       "56"
      ]
     },
     "execution_count": 1,
     "metadata": {},
     "output_type": "execute_result"
    }
   ],
   "source": [
    "arr =[4,5,45,1,8,7,56,8]\n",
    "\n",
    "def maarr_ele(arr):\n",
    "    l =len(arr)\n",
    "    if l==0:\n",
    "        return \"no maarr element\"\n",
    "    maarr = arr[0]\n",
    "    for i in range(l):\n",
    "        if arr[i]>maarr:\n",
    "            maarr = arr[i]\n",
    "\n",
    "    return maarr\n",
    "\n",
    "\n",
    "maarr_ele(arr)"
   ]
  },
  {
   "cell_type": "code",
   "execution_count": 2,
   "metadata": {},
   "outputs": [
    {
     "data": {
      "text/plain": [
       "4"
      ]
     },
     "execution_count": 2,
     "metadata": {},
     "output_type": "execute_result"
    }
   ],
   "source": [
    "arr=[4,5,8,7,56,8]\n",
    "\n",
    "def min_ele(arr):\n",
    "    l =len(arr)\n",
    "    if l==0:\n",
    "        return \"no maarr element\"\n",
    "    min = arr[0]\n",
    "    for i in range(l):\n",
    "        if arr[i]<min:\n",
    "            min = arr[i]\n",
    "\n",
    "    return min\n",
    "\n",
    "\n",
    "min_ele(arr)"
   ]
  },
  {
   "cell_type": "code",
   "execution_count": 4,
   "metadata": {},
   "outputs": [
    {
     "data": {
      "text/plain": [
       "[1, 4, 5, 7, 8, 8, 45, 56]"
      ]
     },
     "execution_count": 4,
     "metadata": {},
     "output_type": "execute_result"
    }
   ],
   "source": [
    "# selection sort\n",
    "arr = [4,5,45,1,8,7,56,8]\n",
    "def selectionSort(arr):\n",
    "    for i in range(len(arr)):\n",
    "        min_ele_idarr =i\n",
    "        for j in range(i+1,len(arr)):\n",
    "            if arr[min_ele_idarr]> arr[j]:\n",
    "                min_ele_idarr =j\n",
    "        arr[i],arr[min_ele_idarr]=arr[min_ele_idarr],arr[i]\n",
    "    return arr    \n",
    "\n",
    "selectionSort(arr)"
   ]
  },
  {
   "cell_type": "code",
   "execution_count": 5,
   "metadata": {},
   "outputs": [
    {
     "data": {
      "text/plain": [
       "[1, 4, 5, 7, 8, 8, 45, 56]"
      ]
     },
     "execution_count": 5,
     "metadata": {},
     "output_type": "execute_result"
    }
   ],
   "source": [
    "def bubbleSort(arr):\n",
    "    n =len(arr)\n",
    "    for i in range(n-1):\n",
    "        for j in range(n-i-1):\n",
    "            if arr[j]>arr[j+1]:\n",
    "                arr[j], arr[j+1]= arr[j+1],arr[j]\n",
    "    return arr\n",
    "bubbleSort(arr)"
   ]
  },
  {
   "cell_type": "code",
   "execution_count": 6,
   "metadata": {},
   "outputs": [
    {
     "data": {
      "text/plain": [
       "[1, 4, 5, 7, 8, 8, 45, 56]"
      ]
     },
     "execution_count": 6,
     "metadata": {},
     "output_type": "execute_result"
    }
   ],
   "source": [
    "def insertionSort(arr):\n",
    "    n = len(arr)\n",
    "    for i in range(n):\n",
    "        for j in range(i+1,n):\n",
    "            if arr[i]>arr[j]:\n",
    "                arr[i], arr[j]=arr[j],arr[i]\n",
    "\n",
    "    return arr\n",
    "insertionSort(arr)"
   ]
  },
  {
   "cell_type": "code",
   "execution_count": 8,
   "metadata": {},
   "outputs": [
    {
     "data": {
      "text/plain": [
       "False"
      ]
     },
     "execution_count": 8,
     "metadata": {},
     "output_type": "execute_result"
    }
   ],
   "source": [
    "def linSearch(arr, x):\n",
    "    n = len(arr)\n",
    "    for i in arr:\n",
    "        if i == x:\n",
    "            return True\n",
    "    return False\n",
    "\n",
    "linSearch(arr, 51)"
   ]
  },
  {
   "cell_type": "code",
   "execution_count": 15,
   "metadata": {},
   "outputs": [
    {
     "name": "stdout",
     "output_type": "stream",
     "text": [
      "[1, 4, 5, 7, 8, 8, 45, 56]\n"
     ]
    },
    {
     "data": {
      "text/plain": [
       "6"
      ]
     },
     "execution_count": 15,
     "metadata": {},
     "output_type": "execute_result"
    }
   ],
   "source": [
    "print(arr)\n",
    "\n",
    "def binSearch(arr,x):\n",
    "    l = len(arr)\n",
    "    si = 0\n",
    "    ei = l - 1\n",
    "\n",
    "    while si <= ei:\n",
    "        mid = (si + ei) // 2\n",
    "        if arr[mid] == x:\n",
    "            return mid\n",
    "        elif arr[mid] < x:\n",
    "            si = mid + 1\n",
    "        else:\n",
    "            ei = mid - 1\n",
    "\n",
    "    return -1\n",
    "\n",
    "arr = [1, 4, 5, 7, 8, 8, 45, 56]\n",
    "binSearch(arr,45)"
   ]
  },
  {
   "cell_type": "code",
   "execution_count": null,
   "metadata": {},
   "outputs": [],
   "source": []
  }
 ],
 "metadata": {
  "kernelspec": {
   "display_name": "dcenv",
   "language": "python",
   "name": "python3"
  },
  "language_info": {
   "codemirror_mode": {
    "name": "ipython",
    "version": 3
   },
   "file_extension": ".py",
   "mimetype": "text/x-python",
   "name": "python",
   "nbconvert_exporter": "python",
   "pygments_lexer": "ipython3",
   "version": "3.11.5"
  }
 },
 "nbformat": 4,
 "nbformat_minor": 2
}
